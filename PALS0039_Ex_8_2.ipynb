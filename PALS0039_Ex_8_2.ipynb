{
  "nbformat": 4,
  "nbformat_minor": 0,
  "metadata": {
    "colab": {
      "provenance": []
    },
    "kernelspec": {
      "name": "python3",
      "display_name": "Python 3"
    },
    "accelerator": "GPU"
  },
  "cells": [
    {
      "cell_type": "markdown",
      "metadata": {
        "id": "OsuMCkqDNArY"
      },
      "source": [
        "[![PALS0039 Logo](https://www.phon.ucl.ac.uk/courses/pals0039/images/pals0039logo.png)](https://www.phon.ucl.ac.uk/courses/pals0039/)\n",
        "\n",
        "# Exercise 8.2 Grapheme to phoneme conversion\n",
        "\n",
        "In this exercise we construct a sequence-to-sequence model to address the problem of grapheme to phoneme conversion. We use an English pronunciation dictionary called BEEP which has been converted to the [SAMPA machine readable pronunciation](https://www.phon.ucl.ac.uk/home/sampa/) format.\n",
        "\n",
        "The training data looks like this:\n",
        "```\n",
        "PRONOUN\t      pr@UnaUn\n",
        "PRONOUN'S\t    pr@UnaUnz\n",
        "PRONOUNCE\t    pr@naUns\n",
        "PRONOUNCEABLE\tpr@naUns@bl\n",
        "```\n",
        "\n",
        "**Hint:** Use Ex. 8.1 as an example to complete this exercise."
      ]
    },
    {
      "cell_type": "markdown",
      "metadata": {
        "id": "KFuZqgM5IPD0"
      },
      "source": [
        "---\n",
        "Set up the environment:"
      ]
    },
    {
      "cell_type": "code",
      "metadata": {
        "id": "9f2ZGjXiIHPC",
        "colab": {
          "base_uri": "https://localhost:8080/"
        },
        "outputId": "fdddf42a-f704-4279-e292-bad725e41012"
      },
      "source": [
        "import numpy as np\n",
        "import pandas as pd\n",
        "\n",
        "import matplotlib.pyplot as plt\n",
        "%matplotlib inline\n",
        "\n",
        "%tensorflow_version 2.x\n",
        "from tensorflow.keras.models import Model, Sequential\n",
        "from tensorflow.keras.optimizers import Adam\n",
        "from tensorflow.keras.layers import Input, LSTM, Dense, TimeDistributed, Bidirectional\n",
        "from tensorflow.keras.utils import to_categorical, plot_model\n",
        "from IPython.display import Image"
      ],
      "execution_count": null,
      "outputs": [
        {
          "output_type": "stream",
          "name": "stdout",
          "text": [
            "Colab only includes TensorFlow 2.x; %tensorflow_version has no effect.\n"
          ]
        }
      ]
    },
    {
      "cell_type": "markdown",
      "metadata": {
        "id": "YRysYfVPIhM8"
      },
      "source": [
        "---\n",
        "Load the pronunciation dictionary:"
      ]
    },
    {
      "cell_type": "code",
      "metadata": {
        "id": "p0h0NxZCIizk",
        "colab": {
          "base_uri": "https://localhost:8080/",
          "height": 419
        },
        "outputId": "a17ef0de-2d3f-45c3-ae4e-8045c4495b08"
      },
      "source": [
        "# the dictionary has pairs of input spelling and target transcription\n",
        "url = \"https://www.phon.ucl.ac.uk/courses/pals0039/data/exercise_08/english-dictionary.csv\"\n",
        "\n",
        "# read the dictionary using Pandas\n",
        "df = pd.read_csv(url,keep_default_na=False)\n",
        "\n",
        "# inspect\n",
        "df"
      ],
      "execution_count": null,
      "outputs": [
        {
          "output_type": "execute_result",
          "data": {
            "text/plain": [
              "            INPUT       TARGET\n",
              "0            'AVE           {v\n",
              "1          'CAUSE         kO:z\n",
              "2            'COS          kQz\n",
              "3             'EM           @m\n",
              "4          'EMPTY       empti:\n",
              "...           ...          ...\n",
              "256987     ZYGOMA     zaIg@Um@\n",
              "256988   ZYGOMATA   zaIg@Um@t@\n",
              "256989  ZYMOSCOPE  zaIm@Usk@Up\n",
              "256990    ZYMOSIS    zaIm@UsIs\n",
              "256991    ZYMOTIC     zaImQtIk\n",
              "\n",
              "[256992 rows x 2 columns]"
            ],
            "text/html": [
              "\n",
              "  <div id=\"df-65b943e6-c835-4333-8309-45640498abd8\">\n",
              "    <div class=\"colab-df-container\">\n",
              "      <div>\n",
              "<style scoped>\n",
              "    .dataframe tbody tr th:only-of-type {\n",
              "        vertical-align: middle;\n",
              "    }\n",
              "\n",
              "    .dataframe tbody tr th {\n",
              "        vertical-align: top;\n",
              "    }\n",
              "\n",
              "    .dataframe thead th {\n",
              "        text-align: right;\n",
              "    }\n",
              "</style>\n",
              "<table border=\"1\" class=\"dataframe\">\n",
              "  <thead>\n",
              "    <tr style=\"text-align: right;\">\n",
              "      <th></th>\n",
              "      <th>INPUT</th>\n",
              "      <th>TARGET</th>\n",
              "    </tr>\n",
              "  </thead>\n",
              "  <tbody>\n",
              "    <tr>\n",
              "      <th>0</th>\n",
              "      <td>'AVE</td>\n",
              "      <td>{v</td>\n",
              "    </tr>\n",
              "    <tr>\n",
              "      <th>1</th>\n",
              "      <td>'CAUSE</td>\n",
              "      <td>kO:z</td>\n",
              "    </tr>\n",
              "    <tr>\n",
              "      <th>2</th>\n",
              "      <td>'COS</td>\n",
              "      <td>kQz</td>\n",
              "    </tr>\n",
              "    <tr>\n",
              "      <th>3</th>\n",
              "      <td>'EM</td>\n",
              "      <td>@m</td>\n",
              "    </tr>\n",
              "    <tr>\n",
              "      <th>4</th>\n",
              "      <td>'EMPTY</td>\n",
              "      <td>empti:</td>\n",
              "    </tr>\n",
              "    <tr>\n",
              "      <th>...</th>\n",
              "      <td>...</td>\n",
              "      <td>...</td>\n",
              "    </tr>\n",
              "    <tr>\n",
              "      <th>256987</th>\n",
              "      <td>ZYGOMA</td>\n",
              "      <td>zaIg@Um@</td>\n",
              "    </tr>\n",
              "    <tr>\n",
              "      <th>256988</th>\n",
              "      <td>ZYGOMATA</td>\n",
              "      <td>zaIg@Um@t@</td>\n",
              "    </tr>\n",
              "    <tr>\n",
              "      <th>256989</th>\n",
              "      <td>ZYMOSCOPE</td>\n",
              "      <td>zaIm@Usk@Up</td>\n",
              "    </tr>\n",
              "    <tr>\n",
              "      <th>256990</th>\n",
              "      <td>ZYMOSIS</td>\n",
              "      <td>zaIm@UsIs</td>\n",
              "    </tr>\n",
              "    <tr>\n",
              "      <th>256991</th>\n",
              "      <td>ZYMOTIC</td>\n",
              "      <td>zaImQtIk</td>\n",
              "    </tr>\n",
              "  </tbody>\n",
              "</table>\n",
              "<p>256992 rows × 2 columns</p>\n",
              "</div>\n",
              "      <button class=\"colab-df-convert\" onclick=\"convertToInteractive('df-65b943e6-c835-4333-8309-45640498abd8')\"\n",
              "              title=\"Convert this dataframe to an interactive table.\"\n",
              "              style=\"display:none;\">\n",
              "        \n",
              "  <svg xmlns=\"http://www.w3.org/2000/svg\" height=\"24px\"viewBox=\"0 0 24 24\"\n",
              "       width=\"24px\">\n",
              "    <path d=\"M0 0h24v24H0V0z\" fill=\"none\"/>\n",
              "    <path d=\"M18.56 5.44l.94 2.06.94-2.06 2.06-.94-2.06-.94-.94-2.06-.94 2.06-2.06.94zm-11 1L8.5 8.5l.94-2.06 2.06-.94-2.06-.94L8.5 2.5l-.94 2.06-2.06.94zm10 10l.94 2.06.94-2.06 2.06-.94-2.06-.94-.94-2.06-.94 2.06-2.06.94z\"/><path d=\"M17.41 7.96l-1.37-1.37c-.4-.4-.92-.59-1.43-.59-.52 0-1.04.2-1.43.59L10.3 9.45l-7.72 7.72c-.78.78-.78 2.05 0 2.83L4 21.41c.39.39.9.59 1.41.59.51 0 1.02-.2 1.41-.59l7.78-7.78 2.81-2.81c.8-.78.8-2.07 0-2.86zM5.41 20L4 18.59l7.72-7.72 1.47 1.35L5.41 20z\"/>\n",
              "  </svg>\n",
              "      </button>\n",
              "      \n",
              "  <style>\n",
              "    .colab-df-container {\n",
              "      display:flex;\n",
              "      flex-wrap:wrap;\n",
              "      gap: 12px;\n",
              "    }\n",
              "\n",
              "    .colab-df-convert {\n",
              "      background-color: #E8F0FE;\n",
              "      border: none;\n",
              "      border-radius: 50%;\n",
              "      cursor: pointer;\n",
              "      display: none;\n",
              "      fill: #1967D2;\n",
              "      height: 32px;\n",
              "      padding: 0 0 0 0;\n",
              "      width: 32px;\n",
              "    }\n",
              "\n",
              "    .colab-df-convert:hover {\n",
              "      background-color: #E2EBFA;\n",
              "      box-shadow: 0px 1px 2px rgba(60, 64, 67, 0.3), 0px 1px 3px 1px rgba(60, 64, 67, 0.15);\n",
              "      fill: #174EA6;\n",
              "    }\n",
              "\n",
              "    [theme=dark] .colab-df-convert {\n",
              "      background-color: #3B4455;\n",
              "      fill: #D2E3FC;\n",
              "    }\n",
              "\n",
              "    [theme=dark] .colab-df-convert:hover {\n",
              "      background-color: #434B5C;\n",
              "      box-shadow: 0px 1px 3px 1px rgba(0, 0, 0, 0.15);\n",
              "      filter: drop-shadow(0px 1px 2px rgba(0, 0, 0, 0.3));\n",
              "      fill: #FFFFFF;\n",
              "    }\n",
              "  </style>\n",
              "\n",
              "      <script>\n",
              "        const buttonEl =\n",
              "          document.querySelector('#df-65b943e6-c835-4333-8309-45640498abd8 button.colab-df-convert');\n",
              "        buttonEl.style.display =\n",
              "          google.colab.kernel.accessAllowed ? 'block' : 'none';\n",
              "\n",
              "        async function convertToInteractive(key) {\n",
              "          const element = document.querySelector('#df-65b943e6-c835-4333-8309-45640498abd8');\n",
              "          const dataTable =\n",
              "            await google.colab.kernel.invokeFunction('convertToInteractive',\n",
              "                                                     [key], {});\n",
              "          if (!dataTable) return;\n",
              "\n",
              "          const docLinkHtml = 'Like what you see? Visit the ' +\n",
              "            '<a target=\"_blank\" href=https://colab.research.google.com/notebooks/data_table.ipynb>data table notebook</a>'\n",
              "            + ' to learn more about interactive tables.';\n",
              "          element.innerHTML = '';\n",
              "          dataTable['output_type'] = 'display_data';\n",
              "          await google.colab.output.renderOutput(dataTable, element);\n",
              "          const docLink = document.createElement('div');\n",
              "          docLink.innerHTML = docLinkHtml;\n",
              "          element.appendChild(docLink);\n",
              "        }\n",
              "      </script>\n",
              "    </div>\n",
              "  </div>\n",
              "  "
            ]
          },
          "metadata": {},
          "execution_count": 2
        }
      ]
    },
    {
      "cell_type": "markdown",
      "metadata": {
        "id": "4Y6rx4SnOjjC"
      },
      "source": [
        "---\n",
        "Create the input and output vocabulary of symbols:"
      ]
    },
    {
      "cell_type": "code",
      "metadata": {
        "id": "K1LIqtgMOyve",
        "colab": {
          "base_uri": "https://localhost:8080/"
        },
        "outputId": "e7030805-05ba-4cff-d840-9d6d50eb7cd1"
      },
      "source": [
        "# get list of all characters used in orthography\n",
        "inputs = df.INPUT.to_list()\n",
        "input_chars = sorted(list(set(\"\".join(inputs))))\n",
        "\n",
        "# add space as a special character\n",
        "input_chars.append(' ')\n",
        "print(\"Orthography:\", input_chars)\n",
        "\n",
        "# get list of all the characters used in transcription\n",
        "targets = df.TARGET.to_list()\n",
        "target_chars = sorted(list(set(\"\".join(targets))))\n",
        "\n",
        "# add space and square brackets as special characters - we will use these as start and end symbols\n",
        "target_chars.append('[')\n",
        "target_chars.append(']')\n",
        "print(\"SAMPA symbols:\", target_chars)"
      ],
      "execution_count": null,
      "outputs": [
        {
          "output_type": "stream",
          "name": "stdout",
          "text": [
            "Orthography: [\"'\", '-', '.', '5', '6', '<', 'A', 'B', 'C', 'D', 'E', 'F', 'G', 'H', 'I', 'J', 'K', 'L', 'M', 'N', 'O', 'P', 'Q', 'R', 'S', 'T', 'U', 'V', 'W', 'X', 'Y', 'Z', '\\\\', '^', '_', '`', '~', ' ']\n",
            "SAMPA symbols: ['3', ':', '@', 'A', 'D', 'I', 'N', 'O', 'Q', 'S', 'T', 'U', 'V', 'Z', 'a', 'b', 'd', 'e', 'f', 'g', 'h', 'i', 'j', 'k', 'l', 'm', 'n', 'p', 'r', 's', 't', 'u', 'v', 'w', 'z', '{', '[', ']']\n"
          ]
        }
      ]
    },
    {
      "cell_type": "markdown",
      "metadata": {
        "id": "MYwZ6YZggp1p"
      },
      "source": [
        "---\n",
        "Get basic parameters for the model:"
      ]
    },
    {
      "cell_type": "code",
      "metadata": {
        "id": "Pcpqs_PqgtFH",
        "colab": {
          "base_uri": "https://localhost:8080/"
        },
        "outputId": "3eb83233-aa68-4e2e-960c-c837723900d5"
      },
      "source": [
        "# number of pronunciations\n",
        "num_samples=len(df)\n",
        "\n",
        "# number of different tokens used in orthography\n",
        "num_encoder_tokens = len(input_chars)\n",
        "\n",
        "# number of different tokens used in transcription\n",
        "num_decoder_tokens = len(target_chars)\n",
        "\n",
        "# maximum lengths of words and pronunciations\n",
        "max_encoder_seq_length = max([len(txt) for txt in df.INPUT.to_list()])\n",
        "max_decoder_seq_length = max([len(txt) for txt in df.TARGET.to_list()]) + 2   # plus 2 for BOS=[ and EOS=]\n",
        "\n",
        "print('Number of samples:', num_samples)\n",
        "print('Number of unique input tokens:', num_encoder_tokens)\n",
        "print('Number of unique output tokens:', num_decoder_tokens)\n",
        "print('Max sequence length for inputs:', max_encoder_seq_length)\n",
        "print('Max sequence length for outputs:', max_decoder_seq_length)\n",
        "\n",
        "# create mappings for both sets\n",
        "orth_to_chr = dict(enumerate(input_chars))\n",
        "orth_to_idx = {v: k for k, v in orth_to_chr.items()}\n",
        "phon_to_chr = dict(enumerate(target_chars))\n",
        "phon_to_idx = {v: k for k, v in phon_to_chr.items()}"
      ],
      "execution_count": null,
      "outputs": [
        {
          "output_type": "stream",
          "name": "stdout",
          "text": [
            "Number of samples: 256992\n",
            "Number of unique input tokens: 38\n",
            "Number of unique output tokens: 38\n",
            "Max sequence length for inputs: 28\n",
            "Max sequence length for outputs: 32\n"
          ]
        }
      ]
    },
    {
      "cell_type": "markdown",
      "metadata": {
        "id": "s_5Uoo-hj3yF"
      },
      "source": [
        "---\n",
        "Prepare the training data:"
      ]
    },
    {
      "cell_type": "code",
      "source": [
        "# create list of encoder input sequences: padded with spaces and converted to indices:\n",
        "encin_data = []\n",
        "for word in df[\"INPUT\"]:\n",
        "  padded_word = word.ljust(max_encoder_seq_length, \" \")\n",
        "  encin_data.append(list(map(orth_to_idx.get, padded_word)))\n",
        "encin_data = np.array(encin_data)\n",
        "\n",
        "# create lists of decoder target and decoder input sequences: add `[` and `]`, pad and convert to indices:\n",
        "decout_data = []\n",
        "decin_data = []\n",
        "for pronun in df[\"TARGET\"]:\n",
        "  padded_pronun = (\"[\" + pronun + \"]\").ljust(max_decoder_seq_length + 1, \"]\")\n",
        "  padded_pronun_idxs = list(map(phon_to_idx.get, padded_pronun))\n",
        "  decout_data.append(padded_pronun_idxs[1:])\n",
        "  decin_data.append(padded_pronun_idxs[:-1])\n",
        "decout_data = np.array(decout_data)\n",
        "decin_data = np.array(decin_data)\n",
        "\n",
        "# shuffle and one-hot encode\n",
        "nseq = len(encin_data)\n",
        "p = np.random.permutation(nseq)\n",
        "encin_train = to_categorical(encin_data[p])\n",
        "decin_train = to_categorical(decin_data[p])\n",
        "decout_train = to_categorical(decout_data[p])\n",
        "\n",
        "# inspect\n",
        "print(encin_train.shape, decin_train.shape, decout_train.shape)"
      ],
      "metadata": {
        "colab": {
          "base_uri": "https://localhost:8080/"
        },
        "id": "GrHOlZYLQMdU",
        "outputId": "77bcce58-47f0-4b32-aaa2-68e26c0fa146"
      },
      "execution_count": null,
      "outputs": [
        {
          "output_type": "stream",
          "name": "stdout",
          "text": [
            "(256992, 28, 38) (256992, 32, 38) (256992, 32, 38)\n"
          ]
        }
      ]
    },
    {
      "cell_type": "markdown",
      "metadata": {
        "id": "gKgWFBu5n1eD"
      },
      "source": [
        "---\n",
        "(a) Construct the sequence-to-sequence model for training."
      ]
    },
    {
      "cell_type": "code",
      "source": [
        "#(a)\n",
        "iwidth = num_encoder_tokens\n",
        "owidth = num_decoder_tokens\n",
        "internal_size = 256\n",
        "\n",
        "# build the encoder network\n",
        "encin = Input(shape=(None, iwidth), name=\"Encoder-Input\")\n",
        "encoder = LSTM(internal_size, return_state=True, name=\"Encoder\")\n",
        "encout, encstate_h, encstate_c = encoder(encin)\n",
        "#encout, encstate_h, encstate_c = LSTM(internal_size, return_state=True, name=\"Encoder\")(encin)\n",
        "# we won't use the encoder outputs -- we only need the states\n",
        "encstates = [encstate_h, encstate_c]\n",
        "\n",
        "# we set up our decoder to return full output sequences,\n",
        "# and to return internal states as well. We don't use the\n",
        "# return states in the training model, but we will use them\n",
        "# during decoding.\n",
        "decin = Input(shape=(None, owidth), name=\"Decoder-Input\")\n",
        "decoder_internal = LSTM(internal_size, return_sequences=True, return_state=True, name=\"Decoder-Internal\")\n",
        "decout_internal, decstate_h, decstate_c = decoder_internal(decin, initial_state=encstates)\n",
        "decoder_final = Dense(owidth, activation=\"softmax\", name=\"Decoder-Final\")\n",
        "decout = decoder_final(decout_internal)\n",
        "\n",
        "# combine the encoder and decoder for training\n",
        "model = Model([encin, decin], decout)\n",
        "\n",
        "# compile and inspect the model\n",
        "model.compile(optimizer=Adam(), loss=\"categorical_crossentropy\", metrics=[\"accuracy\"])\n",
        "plot_model(model, show_layer_names=True, to_file=\"model.png\")\n",
        "Image(filename=\"model.png\")"
      ],
      "metadata": {
        "colab": {
          "base_uri": "https://localhost:8080/",
          "height": 369
        },
        "id": "JsAORDvaXUGH",
        "outputId": "492c4755-755f-4f7f-b727-eaafc4f7d20e"
      },
      "execution_count": null,
      "outputs": [
        {
          "output_type": "execute_result",
          "data": {
            "image/png": "[encoded data removed]",
            "text/plain": [
              "<IPython.core.display.Image object>"
            ]
          },
          "metadata": {},
          "execution_count": 11
        }
      ]
    },
    {
      "cell_type": "markdown",
      "source": [
        "---\n",
        "(b) Train the model"
      ],
      "metadata": {
        "id": "0QVGfm8kXyN9"
      }
    },
    {
      "cell_type": "code",
      "source": [
        "#(b)\n",
        "training_info = model.fit([encin_train, decin_train], decout_train, batch_size=64, epochs=5, validation_split=0.05)"
      ],
      "metadata": {
        "colab": {
          "base_uri": "https://localhost:8080/"
        },
        "id": "njAq99WaX3YA",
        "outputId": "9ab0f6de-040e-4515-f129-17a566dec8e3"
      },
      "execution_count": null,
      "outputs": [
        {
          "output_type": "stream",
          "name": "stdout",
          "text": [
            "Epoch 1/5\n",
            "3815/3815 [==============================] - 108s 26ms/step - loss: 0.5075 - accuracy: 0.8490 - val_loss: 0.2226 - val_accuracy: 0.9291\n",
            "Epoch 2/5\n",
            "3815/3815 [==============================] - 92s 24ms/step - loss: 0.1557 - accuracy: 0.9497 - val_loss: 0.1146 - val_accuracy: 0.9625\n",
            "Epoch 3/5\n",
            "3815/3815 [==============================] - 90s 24ms/step - loss: 0.0950 - accuracy: 0.9688 - val_loss: 0.0805 - val_accuracy: 0.9735\n",
            "Epoch 4/5\n",
            "3815/3815 [==============================] - 98s 26ms/step - loss: 0.0716 - accuracy: 0.9762 - val_loss: 0.0665 - val_accuracy: 0.9777\n",
            "Epoch 5/5\n",
            "3815/3815 [==============================] - 88s 23ms/step - loss: 0.0586 - accuracy: 0.9802 - val_loss: 0.0573 - val_accuracy: 0.9806\n"
          ]
        }
      ]
    },
    {
      "cell_type": "markdown",
      "source": [
        "---\n",
        "Plot and examine the training graphs:"
      ],
      "metadata": {
        "id": "was2wXIjc1xw"
      }
    },
    {
      "cell_type": "code",
      "source": [
        "def plot_training_history(training_info):\n",
        "  # Plot the training process:\n",
        "  fig, axs = plt.subplots(1, 2, figsize=(16, 5))\n",
        "  axs[0].plot(training_info.history['loss'], label=\"training set\")\n",
        "  axs[0].plot(training_info.history['val_loss'], label=\"validation set\")\n",
        "  axs[0].set_xlabel(\"Epoch\")\n",
        "  axs[0].set_ylabel(\"Loss\")\n",
        "  axs[0].grid(True)\n",
        "  axs[0].legend()\n",
        "  try:\n",
        "    axs[1].plot(training_info.history['accuracy'], label=\"training set\")\n",
        "    axs[1].plot(training_info.history['val_accuracy'], label=\"validation set\")\n",
        "    axs[1].set_xlabel(\"Epoch\")\n",
        "    axs[1].set_ylabel(\"Accuracy\")\n",
        "    axs[1].grid(True)\n",
        "    axs[1].legend()\n",
        "  except:\n",
        "    pass\n",
        "  plt.show()\n",
        "\n",
        "plot_training_history(training_info)"
      ],
      "metadata": {
        "colab": {
          "base_uri": "https://localhost:8080/",
          "height": 334
        },
        "id": "xML2_SmEc5RY",
        "outputId": "b10c9c09-4d78-48dc-c2b2-32e353f5abf2"
      },
      "execution_count": null,
      "outputs": [
        {
          "output_type": "display_data",
          "data": {
            "text/plain": [
              "<Figure size 1152x360 with 2 Axes>"
            ],
            "image/png": "[encoded data removed]"
          },
          "metadata": {
            "needs_background": "light"
          }
        }
      ]
    },
    {
      "cell_type": "markdown",
      "source": [
        "---\n",
        "(c) Build the sequence-to-sequence application using the trained encoder-decoder pair:"
      ],
      "metadata": {
        "id": "Nas7o1tKdFkg"
      }
    },
    {
      "cell_type": "code",
      "source": [
        "#(c)\n",
        "# define sampling models\n",
        "encmod = Model(encin, encstates)\n",
        "\n",
        "decmodstate_in_h = Input(shape=(internal_size,), name=\"DecModState_h\")\n",
        "decmodstate_in_c = Input(shape=(internal_size,), name=\"DecModState_c\")\n",
        "decmodstate_in = [decmodstate_in_h, decmodstate_in_c]\n",
        "decmodout_internal, decmod_state_h, decmod_state_c = decoder_internal(decin, initial_state=decmodstate_in)\n",
        "decmod_states = [decmod_state_h, decmod_state_c]\n",
        "decmod_out = decoder_final(decmodout_internal)\n",
        "decmod = Model([decin] + decmodstate_in, [decmod_out] + decmod_states)\n",
        "\n",
        "# inspect decoder network\n",
        "plot_model(decmod, show_layer_names=True, to_file=\"model.png\")\n",
        "Image(filename=\"model.png\")"
      ],
      "metadata": {
        "colab": {
          "base_uri": "https://localhost:8080/",
          "height": 272
        },
        "id": "sUT6h97wdKZU",
        "outputId": "155c4c6e-b5ff-4b83-8997-131f455433ac"
      },
      "execution_count": null,
      "outputs": [
        {
          "output_type": "execute_result",
          "data": {
            "image/png": "[encoded data removed]",
            "text/plain": [
              "<IPython.core.display.Image object>"
            ]
          },
          "metadata": {},
          "execution_count": 13
        }
      ]
    },
    {
      "cell_type": "markdown",
      "source": [
        "---\n",
        "(d) Implement sampling from the output distribution to decode sequences:"
      ],
      "metadata": {
        "id": "HCrGzDwydUVx"
      }
    },
    {
      "cell_type": "code",
      "source": [
        "#(d)\n",
        "def decode_sequence(input_seq):\n",
        "  # reshape input into tensor of size 1\n",
        "  input_tensor = input_seq.reshape(1, *input_seq.shape)\n",
        "  # encode the input as state vectors.\n",
        "  states = encmod.predict(input_tensor,verbose=False)\n",
        "  # create empty target sequence of length 1.\n",
        "  target_seq = np.zeros((1, 1, owidth))\n",
        "  # Populate the first element of target sequence with the start symbol `[`.\n",
        "  target_seq[0, 0, phon_to_idx[\"[\"]] = 1.0\n",
        "\n",
        "  # Sampling loop for a batch of sequences\n",
        "  # (to simplify, here we assume a batch of size 1)\n",
        "  outsyms = \"\"\n",
        "  while True:\n",
        "    outvec, outstate_h, outstate_c = decmod.predict([target_seq] + states, verbose=False)\n",
        "    outidx = np.argmax(outvec[0, -1])\n",
        "    outsym = phon_to_chr[outidx]\n",
        "\n",
        "    # Update the target sequence (of length 1)\n",
        "    target_seq = np.zeros((1, 1, owidth))\n",
        "    target_seq[0, 0, outidx] = 1.0\n",
        "\n",
        "    # Update states\n",
        "    states = [outstate_h, outstate_c]\n",
        "\n",
        "    # Exit condition: either hit max length\n",
        "    # or find stop character.\n",
        "    if (outsym == ']' or len(outsyms) >= max_decoder_seq_length):\n",
        "      break\n",
        "    else:\n",
        "      outsyms += outsym\n",
        "\n",
        "  return outsyms"
      ],
      "metadata": {
        "id": "tiQbVY4qdWlD"
      },
      "execution_count": null,
      "outputs": []
    },
    {
      "cell_type": "markdown",
      "metadata": {
        "id": "QLA6BUdSpkVj"
      },
      "source": [
        "---\n",
        "(e) Try out model with some samples -- think of some words to inspect the pronunciations."
      ]
    },
    {
      "cell_type": "code",
      "metadata": {
        "id": "cR4LdI8NpoDx",
        "colab": {
          "base_uri": "https://localhost:8080/"
        },
        "outputId": "63434557-3781-4c2f-89cb-c01c3abfa373"
      },
      "source": [
        "#(e)\n",
        "trial_words = set(\"Twas brillig and the slithy toves Did gyre and gimble in the wabe All mimsy were the borogoves And the mome raths outgrabe\".split())\n",
        "\n",
        "def encode_orth(word):\n",
        "  word = word.upper().ljust(max_encoder_seq_length, \" \")\n",
        "  vecs = np.zeros((len(word), num_encoder_tokens))\n",
        "  for i, idx in enumerate(map(orth_to_idx.get, word)):\n",
        "    vecs[i, idx] = 1.0\n",
        "  return vecs\n",
        "\n",
        "for word in trial_words:\n",
        "  pronun = decode_sequence(encode_orth(word))\n",
        "  print(word.upper(), pronun, sep=\"\\t\")\n"
      ],
      "execution_count": null,
      "outputs": [
        {
          "output_type": "stream",
          "name": "stdout",
          "text": [
            "SLITHY\tslIDi:\n",
            "AND\t{nd\n",
            "AND\t{nd\n",
            "TWAS\ttwQs\n",
            "ALL\tO:l\n",
            "RATHS\tr{Ts\n",
            "OUTGRABE\taUtgreIb\n",
            "WABE\tweIb\n",
            "BRILLIG\tbrIlIg\n",
            "GIMBLE\tdZImbl\n",
            "BOROGOVES\tb@rQg@Uvz\n",
            "THE\tD@\n",
            "GYRE\tdZaI@\n",
            "MOME\tm@Um\n",
            "WERE\twe@r\n",
            "DID\tdId\n",
            "TOVES\tt@Uvz\n",
            "IN\tIn\n",
            "MIMSY\tmImzi:\n"
          ]
        }
      ]
    }
  ]
}