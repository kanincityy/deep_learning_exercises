{
  "nbformat": 4,
  "nbformat_minor": 0,
  "metadata": {
    "colab": {
      "provenance": []
    },
    "kernelspec": {
      "name": "python3",
      "display_name": "Python 3"
    },
    "accelerator": "GPU"
  },
  "cells": [
    {
      "cell_type": "markdown",
      "metadata": {
        "id": "-QYlAUr-y-kX"
      },
      "source": [
        "[![PALS0039 Logo](https://www.phon.ucl.ac.uk/courses/pals0039/images/pals0039logo.png)](https://www.phon.ucl.ac.uk/courses/pals0039/)\n",
        "\n",
        "# Exercise 7.2 Language modelling using RNNs\n",
        "\n",
        "In this exercise we replicate our language modelling experiment from 7.1 but use an RNN instead of n-gram models.\n",
        "\n",
        "\n"
      ]
    },
    {
      "cell_type": "code",
      "source": [
        "import nltk\n",
        "import pandas as pd\n",
        "\n",
        "# Test if NLTK downloads work correctly\n",
        "nltk.download(\"reuters\")\n",
        "nltk.download(\"punkt\")\n",
        "\n",
        "# Test if Pandas works\n",
        "print(pd.__version__)"
      ],
      "metadata": {
        "colab": {
          "base_uri": "https://localhost:8080/"
        },
        "id": "y0E0H4sQOSvJ",
        "outputId": "a2dbb015-4fe1-4f04-f53f-f8518e757b5a"
      },
      "execution_count": 1,
      "outputs": [
        {
          "output_type": "stream",
          "name": "stderr",
          "text": [
            "[nltk_data] Downloading package reuters to /root/nltk_data...\n",
            "[nltk_data] Downloading package punkt to /root/nltk_data...\n",
            "[nltk_data]   Unzipping tokenizers/punkt.zip.\n"
          ]
        },
        {
          "output_type": "stream",
          "name": "stdout",
          "text": [
            "2.2.2\n"
          ]
        }
      ]
    },
    {
      "cell_type": "code",
      "metadata": {
        "id": "znfr9EdrPcoV",
        "colab": {
          "base_uri": "https://localhost:8080/"
        },
        "outputId": "3a9734d4-14ff-47c4-d9c2-fd00800f2897"
      },
      "source": [
        "nltk.download(\"reuters\")\n",
        "nltk.download(\"punkt_tab\")\n",
        "from nltk.corpus import reuters\n",
        "from nltk.lm import Vocabulary\n",
        "# .util = utility functions\n",
        "from nltk.util import pad_sequence, ngrams\n",
        "from nltk.lm.preprocessing import flatten\n",
        "from nltk.lm.models import Laplace\n",
        "\n",
        "import matplotlib.pyplot as plt\n",
        "%matplotlib inline\n",
        "\n",
        "import numpy as np\n",
        "\n",
        "%tensorflow_version 2.x\n",
        "import tensorflow as tf\n",
        "from tensorflow.keras.models import Sequential, Model\n",
        "from tensorflow.keras.optimizers import Adam\n",
        "# TimeDistributed connects fnn with lstm ?\n",
        "from tensorflow.keras.layers import Dense, Embedding, Flatten, LSTM, TimeDistributed\n",
        "from tensorflow.keras.preprocessing.sequence import pad_sequences"
      ],
      "execution_count": 2,
      "outputs": [
        {
          "output_type": "stream",
          "name": "stderr",
          "text": [
            "[nltk_data] Downloading package reuters to /root/nltk_data...\n",
            "[nltk_data]   Package reuters is already up-to-date!\n",
            "[nltk_data] Downloading package punkt_tab to /root/nltk_data...\n",
            "[nltk_data]   Unzipping tokenizers/punkt_tab.zip.\n"
          ]
        },
        {
          "output_type": "stream",
          "name": "stdout",
          "text": [
            "Colab only includes TensorFlow 2.x; %tensorflow_version has no effect.\n"
          ]
        }
      ]
    },
    {
      "cell_type": "markdown",
      "source": [
        "1. ***Collect*** all the sentences from the `reuters` corpus, ***lowercase*** them, and ***pad*** the start and end with special symbols (this means we will have n-grams that distinguish the start and end of sentences). For the left pad symbol use `<s>` and the right use `</s>`.\n",
        "\n",
        "2. ***Flatten*** the sentences into a single list of words representing the entire corpus and create a finite vocabulary by specifying a frequency cut-off at 10.\n",
        "\n",
        "3. ***Partition*** the text into `train` and `test` sets as follows: reserve the first 10,000 words for the `test` set and the rest for `train`."
      ],
      "metadata": {
        "id": "YEv1-ttOkOLB"
      }
    },
    {
      "cell_type": "code",
      "source": [
        "# 1. Collect, lowercase and pad:\n",
        "# Create empty list of sentences\n",
        "sentences = []\n",
        "# Iterate through reuters database sentences -> .sents()\n",
        "for s in reuters.sents():\n",
        "  # lowercase each word\n",
        "  lower_s = [word.lower() for word in s]\n",
        "  # implement padding with pad_sequence from nltk with starting and end symbol\n",
        "  padded_lower_s = list(pad_sequence(lower_s,\n",
        "                                     n=2,\n",
        "                                     pad_left=True,\n",
        "                                     left_pad_symbol=\"<s>\",\n",
        "                                     pad_right=True,\n",
        "                                     right_pad_symbol=\"</s>\"))\n",
        "  # this makes list distinguishable between sentences\n",
        "  sentences.append(padded_lower_s)\n",
        "\n",
        "# 2. Flatten and create finite vocabulary\n",
        "# flatten -> makes one single list out of a list of lists\n",
        "words = list(flatten(sentences))\n",
        "# create vocabulary with nltk toolkit class and define OOV with unk_cutoff=10\n",
        "vocab = Vocabulary(words, unk_cutoff=10)\n",
        "\n",
        "# 3. Partition into train and test\n",
        "test_words = words[:10000]\n",
        "train_words = words[10000:]\n",
        "\n",
        "#Inspect\n",
        "print(\"Length of corpus:\", len(words))\n",
        "print(\"Length of vocabulary:\", len(vocab))\n",
        "print(\"Unique words in corpus:\", len(set(words)))"
      ],
      "metadata": {
        "id": "CSvb1BYkjXJl",
        "colab": {
          "base_uri": "https://localhost:8080/"
        },
        "outputId": "1e60336e-edb0-451d-c92b-7b4cab95ec53"
      },
      "execution_count": 3,
      "outputs": [
        {
          "output_type": "stream",
          "name": "stdout",
          "text": [
            "Length of corpus: 1830349\n",
            "Length of vocabulary: 8070\n",
            "Unique words in corpus: 31079\n"
          ]
        }
      ]
    },
    {
      "cell_type": "markdown",
      "source": [
        "Create mapping from words to indices and map the train and test word sequences:"
      ],
      "metadata": {
        "id": "-q4Jd4RRLHMU"
      }
    },
    {
      "cell_type": "code",
      "source": [
        "# Create mapping -> add more comments! What are you mapping?\n",
        "# A dictionary that maps between words (w) and index (i)\n",
        "word_to_index = {w: i for i, w in enumerate(vocab)}\n",
        "\n",
        "# Map data -> Create data for neural network (list of indices)\n",
        "train_indices = [word_to_index[vocab.lookup(w)] for w in train_words]\n",
        "test_indices = [word_to_index[vocab.lookup(w)] for w in test_words]\n",
        "\n",
        "# Inspect\n",
        "print(train_indices[:25])\n",
        "print(test_indices[:25])"
      ],
      "metadata": {
        "id": "r-I9Zo6eKxFU",
        "colab": {
          "base_uri": "https://localhost:8080/"
        },
        "outputId": "f0b9ce25-06e9-4549-de3f-df7d3ac78723"
      },
      "execution_count": 4,
      "outputs": [
        {
          "output_type": "stream",
          "name": "stdout",
          "text": [
            "[1820, 157, 1096, 426, 1308, 34, 43, 8069, 430, 22, 15, 526, 42, 55, 42, 541, 826, 16, 1821, 278, 325, 53, 1666, 1822, 74]\n",
            "[0, 1, 2, 3, 4, 5, 6, 7, 8, 9, 10, 8069, 11, 12, 13, 14, 15, 6, 7, 8, 7, 16, 10, 17, 18]\n"
          ]
        }
      ]
    },
    {
      "cell_type": "markdown",
      "source": [
        "Prepare the train and test data for use with a RNN:\n",
        "1. Chunk the sequences into smaller sequence with length 100 words (`seqlen`)\n",
        "2. Create outputs which are the inputs shifted by 1 word (i.e. the RNN predicts the next word at each time step."
      ],
      "metadata": {
        "id": "3I9F821GOuEy"
      }
    },
    {
      "cell_type": "code",
      "source": [
        "# Define sequence length of 100 words\n",
        "seqlen = 100\n",
        "\n",
        "# Create outputs which are shifted by one word\n",
        "# so that input and output match based on desired predictions\n",
        "def prepare_sequences(words, unk_index, seqlen=seqlen):\n",
        "  '''\n",
        "  Args:\n",
        "  words: A list (or array) of word indices representing a tokenized text.\n",
        "  unk_index: The index assigned to unknown words (\"<UNK>\").\n",
        "  seqlen: The number of words per sequence (default is 100).\n",
        "  '''\n",
        "  '''\n",
        "  The variable trunc_length finds out how many words would remain if we divided words into chunks of 100.\n",
        "  It removes the extra words at the beginning (trunc_length) so that the remaining words are exactly divisible by seqlen.\n",
        "  Then, words is converted into a NumPy array and reshaped into batches of shape (-1, seqlen), meaning:\n",
        "  -1 lets NumPy infer the number of rows automatically.\n",
        "  seqlen ensures each row contains 100 words.\n",
        "  '''\n",
        "  trunc_length = len(words) % seqlen\n",
        "  X = np.array(words)[trunc_length:].reshape((-1, seqlen))\n",
        "  '''\n",
        "  This shifts the output (y) by one word to the right.\n",
        "  words + [unk_index]: Adds an extra <UNK> token at the end, ensuring alignment when shifting.\n",
        "  trunc_length + 1: Offsets by one to make y the \"next word\" for each corresponding X.\n",
        "  The result is then reshaped to (-1, seqlen), just like X.\n",
        "  '''\n",
        "  y = np.array(words + [unk_index])[trunc_length + 1:].reshape((-1, seqlen))\n",
        "  return X, y\n",
        "\n",
        "'''\n",
        "train_indices and test_indices are lists of word indices.\n",
        "These are processed into X (input sequences) and y (shifted target sequences).\n",
        "<UNK> is used as a filler for the last word.\n",
        "'''\n",
        "Xtrain, ytrain = prepare_sequences(train_indices, word_to_index[\"<UNK>\"])\n",
        "Xtest, ytest = prepare_sequences(test_indices, word_to_index[\"<UNK>\"])\n",
        "\n",
        "#Inspect\n",
        "print(Xtrain.shape, ytrain.shape)\n",
        "print(Xtest.shape, ytest.shape)"
      ],
      "metadata": {
        "id": "oE7frvEgOujw",
        "colab": {
          "base_uri": "https://localhost:8080/"
        },
        "outputId": "cc4a7ca3-dd69-413f-ed83-0926039dd49e"
      },
      "execution_count": 5,
      "outputs": [
        {
          "output_type": "stream",
          "name": "stdout",
          "text": [
            "(18203, 100) (18203, 100)\n",
            "(100, 100) (100, 100)\n"
          ]
        }
      ]
    },
    {
      "cell_type": "markdown",
      "source": [
        "Define functions for the following:\n",
        "1. To calculate the perplexity from the inputs and outputs\n",
        "2. The model architecture\n"
      ],
      "metadata": {
        "id": "xgodEP1SYSpe"
      }
    },
    {
      "cell_type": "code",
      "source": [
        "# Define function to calculate perplexity\n",
        "# Use tf functions\n",
        "def perplexity(y_true, y_pred):\n",
        "  cross_entropy = tf.losses.sparse_categorical_crossentropy(y_true, y_pred)\n",
        "  perplexity = tf.exp(tf.reduce_mean(cross_entropy))\n",
        "  return perplexity\n",
        "\n",
        "def build_model(input_width=len(vocab), input_length=seqlen, output_width=len(vocab), learning_rate=0.01):\n",
        "  model = Sequential()\n",
        "  model.add(Embedding(input_dim=input_width, output_dim=64, input_shape=(input_length,)))\n",
        "  model.add(LSTM(32, return_sequences=True, activation='tanh'))\n",
        "  model.add(LSTM(32, return_sequences=True, activation='tanh'))\n",
        "  # Without TimeDistributed, the Dense layer would only be applied to the last time step\n",
        "  model.add(TimeDistributed(Dense(output_width, activation='softmax')));\n",
        "  model.compile(loss='sparse_categorical_crossentropy', optimizer=Adam(learning_rate=learning_rate), metrics=[perplexity])\n",
        "  return model\n",
        "\n",
        "model = build_model()\n",
        "\n",
        "#Inspect\n",
        "model.summary()"
      ],
      "metadata": {
        "id": "CWlugsBgYmjk",
        "colab": {
          "base_uri": "https://localhost:8080/",
          "height": 257
        },
        "outputId": "13a90be0-ad86-4006-ff4b-1be9facc9e66"
      },
      "execution_count": 13,
      "outputs": [
        {
          "output_type": "display_data",
          "data": {
            "text/plain": [
              "\u001b[1mModel: \"sequential_4\"\u001b[0m\n"
            ],
            "text/html": [
              "<pre style=\"white-space:pre;overflow-x:auto;line-height:normal;font-family:Menlo,'DejaVu Sans Mono',consolas,'Courier New',monospace\"><span style=\"font-weight: bold\">Model: \"sequential_4\"</span>\n",
              "</pre>\n"
            ]
          },
          "metadata": {}
        },
        {
          "output_type": "display_data",
          "data": {
            "text/plain": [
              "┏━━━━━━━━━━━━━━━━━━━━━━━━━━━━━━━━━━━━━━┳━━━━━━━━━━━━━━━━━━━━━━━━━━━━━┳━━━━━━━━━━━━━━━━━┓\n",
              "┃\u001b[1m \u001b[0m\u001b[1mLayer (type)                        \u001b[0m\u001b[1m \u001b[0m┃\u001b[1m \u001b[0m\u001b[1mOutput Shape               \u001b[0m\u001b[1m \u001b[0m┃\u001b[1m \u001b[0m\u001b[1m        Param #\u001b[0m\u001b[1m \u001b[0m┃\n",
              "┡━━━━━━━━━━━━━━━━━━━━━━━━━━━━━━━━━━━━━━╇━━━━━━━━━━━━━━━━━━━━━━━━━━━━━╇━━━━━━━━━━━━━━━━━┩\n",
              "│ embedding_3 (\u001b[38;5;33mEmbedding\u001b[0m)              │ (\u001b[38;5;45mNone\u001b[0m, \u001b[38;5;34m100\u001b[0m, \u001b[38;5;34m64\u001b[0m)             │         \u001b[38;5;34m516,480\u001b[0m │\n",
              "├──────────────────────────────────────┼─────────────────────────────┼─────────────────┤\n",
              "│ lstm_2 (\u001b[38;5;33mLSTM\u001b[0m)                        │ (\u001b[38;5;45mNone\u001b[0m, \u001b[38;5;34m100\u001b[0m, \u001b[38;5;34m32\u001b[0m)             │          \u001b[38;5;34m12,416\u001b[0m │\n",
              "├──────────────────────────────────────┼─────────────────────────────┼─────────────────┤\n",
              "│ lstm_3 (\u001b[38;5;33mLSTM\u001b[0m)                        │ (\u001b[38;5;45mNone\u001b[0m, \u001b[38;5;34m100\u001b[0m, \u001b[38;5;34m32\u001b[0m)             │           \u001b[38;5;34m8,320\u001b[0m │\n",
              "├──────────────────────────────────────┼─────────────────────────────┼─────────────────┤\n",
              "│ time_distributed_1 (\u001b[38;5;33mTimeDistributed\u001b[0m) │ (\u001b[38;5;45mNone\u001b[0m, \u001b[38;5;34m100\u001b[0m, \u001b[38;5;34m8070\u001b[0m)           │         \u001b[38;5;34m266,310\u001b[0m │\n",
              "└──────────────────────────────────────┴─────────────────────────────┴─────────────────┘\n"
            ],
            "text/html": [
              "<pre style=\"white-space:pre;overflow-x:auto;line-height:normal;font-family:Menlo,'DejaVu Sans Mono',consolas,'Courier New',monospace\">┏━━━━━━━━━━━━━━━━━━━━━━━━━━━━━━━━━━━━━━┳━━━━━━━━━━━━━━━━━━━━━━━━━━━━━┳━━━━━━━━━━━━━━━━━┓\n",
              "┃<span style=\"font-weight: bold\"> Layer (type)                         </span>┃<span style=\"font-weight: bold\"> Output Shape                </span>┃<span style=\"font-weight: bold\">         Param # </span>┃\n",
              "┡━━━━━━━━━━━━━━━━━━━━━━━━━━━━━━━━━━━━━━╇━━━━━━━━━━━━━━━━━━━━━━━━━━━━━╇━━━━━━━━━━━━━━━━━┩\n",
              "│ embedding_3 (<span style=\"color: #0087ff; text-decoration-color: #0087ff\">Embedding</span>)              │ (<span style=\"color: #00d7ff; text-decoration-color: #00d7ff\">None</span>, <span style=\"color: #00af00; text-decoration-color: #00af00\">100</span>, <span style=\"color: #00af00; text-decoration-color: #00af00\">64</span>)             │         <span style=\"color: #00af00; text-decoration-color: #00af00\">516,480</span> │\n",
              "├──────────────────────────────────────┼─────────────────────────────┼─────────────────┤\n",
              "│ lstm_2 (<span style=\"color: #0087ff; text-decoration-color: #0087ff\">LSTM</span>)                        │ (<span style=\"color: #00d7ff; text-decoration-color: #00d7ff\">None</span>, <span style=\"color: #00af00; text-decoration-color: #00af00\">100</span>, <span style=\"color: #00af00; text-decoration-color: #00af00\">32</span>)             │          <span style=\"color: #00af00; text-decoration-color: #00af00\">12,416</span> │\n",
              "├──────────────────────────────────────┼─────────────────────────────┼─────────────────┤\n",
              "│ lstm_3 (<span style=\"color: #0087ff; text-decoration-color: #0087ff\">LSTM</span>)                        │ (<span style=\"color: #00d7ff; text-decoration-color: #00d7ff\">None</span>, <span style=\"color: #00af00; text-decoration-color: #00af00\">100</span>, <span style=\"color: #00af00; text-decoration-color: #00af00\">32</span>)             │           <span style=\"color: #00af00; text-decoration-color: #00af00\">8,320</span> │\n",
              "├──────────────────────────────────────┼─────────────────────────────┼─────────────────┤\n",
              "│ time_distributed_1 (<span style=\"color: #0087ff; text-decoration-color: #0087ff\">TimeDistributed</span>) │ (<span style=\"color: #00d7ff; text-decoration-color: #00d7ff\">None</span>, <span style=\"color: #00af00; text-decoration-color: #00af00\">100</span>, <span style=\"color: #00af00; text-decoration-color: #00af00\">8070</span>)           │         <span style=\"color: #00af00; text-decoration-color: #00af00\">266,310</span> │\n",
              "└──────────────────────────────────────┴─────────────────────────────┴─────────────────┘\n",
              "</pre>\n"
            ]
          },
          "metadata": {}
        },
        {
          "output_type": "display_data",
          "data": {
            "text/plain": [
              "\u001b[1m Total params: \u001b[0m\u001b[38;5;34m803,526\u001b[0m (3.07 MB)\n"
            ],
            "text/html": [
              "<pre style=\"white-space:pre;overflow-x:auto;line-height:normal;font-family:Menlo,'DejaVu Sans Mono',consolas,'Courier New',monospace\"><span style=\"font-weight: bold\"> Total params: </span><span style=\"color: #00af00; text-decoration-color: #00af00\">803,526</span> (3.07 MB)\n",
              "</pre>\n"
            ]
          },
          "metadata": {}
        },
        {
          "output_type": "display_data",
          "data": {
            "text/plain": [
              "\u001b[1m Trainable params: \u001b[0m\u001b[38;5;34m803,526\u001b[0m (3.07 MB)\n"
            ],
            "text/html": [
              "<pre style=\"white-space:pre;overflow-x:auto;line-height:normal;font-family:Menlo,'DejaVu Sans Mono',consolas,'Courier New',monospace\"><span style=\"font-weight: bold\"> Trainable params: </span><span style=\"color: #00af00; text-decoration-color: #00af00\">803,526</span> (3.07 MB)\n",
              "</pre>\n"
            ]
          },
          "metadata": {}
        },
        {
          "output_type": "display_data",
          "data": {
            "text/plain": [
              "\u001b[1m Non-trainable params: \u001b[0m\u001b[38;5;34m0\u001b[0m (0.00 B)\n"
            ],
            "text/html": [
              "<pre style=\"white-space:pre;overflow-x:auto;line-height:normal;font-family:Menlo,'DejaVu Sans Mono',consolas,'Courier New',monospace\"><span style=\"font-weight: bold\"> Non-trainable params: </span><span style=\"color: #00af00; text-decoration-color: #00af00\">0</span> (0.00 B)\n",
              "</pre>\n"
            ]
          },
          "metadata": {}
        }
      ]
    },
    {
      "cell_type": "markdown",
      "source": [
        "(a) Call the model.fit method with the correct arguments to train the model with the following specifications: (1) Train for 40 iterations over the dataset; (2) Update the weights during training in batches of 64 samples; (3) Request Keras to randomly select 10% of the training set as the validation set. (4) Implement early stopping if the validation set loss does not decrease for 2 epochs."
      ],
      "metadata": {
        "id": "mVgUnOaJala3"
      }
    },
    {
      "cell_type": "code",
      "source": [
        "#(a)\n",
        "from tensorflow.keras.callbacks import EarlyStopping\n",
        "\n",
        "import tensorflow as tf\n",
        "device = \"CPU\"\n",
        "if tf.config.list_physical_devices('GPU'):\n",
        "    device = \"GPU\"\n",
        "print(f\"Using {device} device\")\n",
        "\n",
        "# Setting patience is important, not too short, not too long, difficult param to set?\n",
        "# Set verbose to 0 in assessment!\n",
        "training_info = model.fit(Xtrain, ytrain, epochs=40, batch_size=64, validation_split=0.1, callbacks=EarlyStopping(monitor='val_loss', patience=2))"
      ],
      "metadata": {
        "id": "kFS79mh2al1Q",
        "colab": {
          "base_uri": "https://localhost:8080/"
        },
        "outputId": "0067a06d-d4cf-4202-b64b-fb688d1f7670"
      },
      "execution_count": 14,
      "outputs": [
        {
          "output_type": "stream",
          "name": "stdout",
          "text": [
            "Using GPU device\n",
            "Epoch 1/40\n",
            "\u001b[1m256/256\u001b[0m \u001b[32m━━━━━━━━━━━━━━━━━━━━\u001b[0m\u001b[37m\u001b[0m \u001b[1m33s\u001b[0m 92ms/step - loss: 6.7323 - perplexity: 1371.0088 - val_loss: 6.3603 - val_perplexity: 580.9601\n",
            "Epoch 2/40\n",
            "\u001b[1m256/256\u001b[0m \u001b[32m━━━━━━━━━━━━━━━━━━━━\u001b[0m\u001b[37m\u001b[0m \u001b[1m36s\u001b[0m 86ms/step - loss: 6.3494 - perplexity: 572.7315 - val_loss: 6.3601 - val_perplexity: 580.7742\n",
            "Epoch 3/40\n",
            "\u001b[1m256/256\u001b[0m \u001b[32m━━━━━━━━━━━━━━━━━━━━\u001b[0m\u001b[37m\u001b[0m \u001b[1m41s\u001b[0m 86ms/step - loss: 6.3493 - perplexity: 572.4589 - val_loss: 6.3643 - val_perplexity: 583.2361\n",
            "Epoch 4/40\n",
            "\u001b[1m256/256\u001b[0m \u001b[32m━━━━━━━━━━━━━━━━━━━━\u001b[0m\u001b[37m\u001b[0m \u001b[1m22s\u001b[0m 86ms/step - loss: 6.3506 - perplexity: 573.3394 - val_loss: 6.3563 - val_perplexity: 578.5546\n",
            "Epoch 5/40\n",
            "\u001b[1m256/256\u001b[0m \u001b[32m━━━━━━━━━━━━━━━━━━━━\u001b[0m\u001b[37m\u001b[0m \u001b[1m41s\u001b[0m 86ms/step - loss: 6.1601 - perplexity: 488.6968 - val_loss: 5.3657 - val_perplexity: 215.7730\n",
            "Epoch 6/40\n",
            "\u001b[1m256/256\u001b[0m \u001b[32m━━━━━━━━━━━━━━━━━━━━\u001b[0m\u001b[37m\u001b[0m \u001b[1m22s\u001b[0m 86ms/step - loss: 5.2213 - perplexity: 186.3712 - val_loss: 4.9730 - val_perplexity: 146.0377\n",
            "Epoch 7/40\n",
            "\u001b[1m256/256\u001b[0m \u001b[32m━━━━━━━━━━━━━━━━━━━━\u001b[0m\u001b[37m\u001b[0m \u001b[1m41s\u001b[0m 86ms/step - loss: 4.8420 - perplexity: 127.2881 - val_loss: 4.7406 - val_perplexity: 116.0199\n",
            "Epoch 8/40\n",
            "\u001b[1m256/256\u001b[0m \u001b[32m━━━━━━━━━━━━━━━━━━━━\u001b[0m\u001b[37m\u001b[0m \u001b[1m41s\u001b[0m 88ms/step - loss: 4.6070 - perplexity: 100.6043 - val_loss: 4.6060 - val_perplexity: 101.3915\n",
            "Epoch 9/40\n",
            "\u001b[1m256/256\u001b[0m \u001b[32m━━━━━━━━━━━━━━━━━━━━\u001b[0m\u001b[37m\u001b[0m \u001b[1m22s\u001b[0m 86ms/step - loss: 4.4667 - perplexity: 87.4274 - val_loss: 4.5314 - val_perplexity: 94.1702\n",
            "Epoch 10/40\n",
            "\u001b[1m256/256\u001b[0m \u001b[32m━━━━━━━━━━━━━━━━━━━━\u001b[0m\u001b[37m\u001b[0m \u001b[1m41s\u001b[0m 86ms/step - loss: 4.3821 - perplexity: 80.3419 - val_loss: 4.4724 - val_perplexity: 88.7985\n",
            "Epoch 11/40\n",
            "\u001b[1m256/256\u001b[0m \u001b[32m━━━━━━━━━━━━━━━━━━━━\u001b[0m\u001b[37m\u001b[0m \u001b[1m42s\u001b[0m 89ms/step - loss: 4.2955 - perplexity: 73.6540 - val_loss: 4.4253 - val_perplexity: 84.7705\n",
            "Epoch 12/40\n",
            "\u001b[1m256/256\u001b[0m \u001b[32m━━━━━━━━━━━━━━━━━━━━\u001b[0m\u001b[37m\u001b[0m \u001b[1m40s\u001b[0m 87ms/step - loss: 4.2385 - perplexity: 69.4974 - val_loss: 4.3853 - val_perplexity: 81.5149\n",
            "Epoch 13/40\n",
            "\u001b[1m256/256\u001b[0m \u001b[32m━━━━━━━━━━━━━━━━━━━━\u001b[0m\u001b[37m\u001b[0m \u001b[1m22s\u001b[0m 87ms/step - loss: 4.1852 - perplexity: 65.9220 - val_loss: 4.3565 - val_perplexity: 79.2222\n",
            "Epoch 14/40\n",
            "\u001b[1m256/256\u001b[0m \u001b[32m━━━━━━━━━━━━━━━━━━━━\u001b[0m\u001b[37m\u001b[0m \u001b[1m41s\u001b[0m 88ms/step - loss: 4.1362 - perplexity: 62.7766 - val_loss: 4.3322 - val_perplexity: 77.2962\n",
            "Epoch 15/40\n",
            "\u001b[1m256/256\u001b[0m \u001b[32m━━━━━━━━━━━━━━━━━━━━\u001b[0m\u001b[37m\u001b[0m \u001b[1m41s\u001b[0m 88ms/step - loss: 4.1019 - perplexity: 60.6807 - val_loss: 4.3098 - val_perplexity: 75.5790\n",
            "Epoch 16/40\n",
            "\u001b[1m256/256\u001b[0m \u001b[32m━━━━━━━━━━━━━━━━━━━━\u001b[0m\u001b[37m\u001b[0m \u001b[1m22s\u001b[0m 87ms/step - loss: 4.0756 - perplexity: 59.1368 - val_loss: 4.2922 - val_perplexity: 74.3092\n",
            "Epoch 17/40\n",
            "\u001b[1m256/256\u001b[0m \u001b[32m━━━━━━━━━━━━━━━━━━━━\u001b[0m\u001b[37m\u001b[0m \u001b[1m41s\u001b[0m 87ms/step - loss: 4.0415 - perplexity: 57.1488 - val_loss: 4.2765 - val_perplexity: 73.1126\n",
            "Epoch 18/40\n",
            "\u001b[1m256/256\u001b[0m \u001b[32m━━━━━━━━━━━━━━━━━━━━\u001b[0m\u001b[37m\u001b[0m \u001b[1m41s\u001b[0m 88ms/step - loss: 4.0014 - perplexity: 54.8722 - val_loss: 4.2629 - val_perplexity: 72.1545\n",
            "Epoch 19/40\n",
            "\u001b[1m256/256\u001b[0m \u001b[32m━━━━━━━━━━━━━━━━━━━━\u001b[0m\u001b[37m\u001b[0m \u001b[1m41s\u001b[0m 90ms/step - loss: 3.9821 - perplexity: 53.8260 - val_loss: 4.2561 - val_perplexity: 71.6842\n",
            "Epoch 20/40\n",
            "\u001b[1m256/256\u001b[0m \u001b[32m━━━━━━━━━━━━━━━━━━━━\u001b[0m\u001b[37m\u001b[0m \u001b[1m41s\u001b[0m 88ms/step - loss: 3.9665 - perplexity: 52.9958 - val_loss: 4.2456 - val_perplexity: 70.9585\n",
            "Epoch 21/40\n",
            "\u001b[1m256/256\u001b[0m \u001b[32m━━━━━━━━━━━━━━━━━━━━\u001b[0m\u001b[37m\u001b[0m \u001b[1m22s\u001b[0m 87ms/step - loss: 3.9515 - perplexity: 52.1771 - val_loss: 4.2374 - val_perplexity: 70.3469\n",
            "Epoch 22/40\n",
            "\u001b[1m256/256\u001b[0m \u001b[32m━━━━━━━━━━━━━━━━━━━━\u001b[0m\u001b[37m\u001b[0m \u001b[1m41s\u001b[0m 87ms/step - loss: 3.9406 - perplexity: 51.6891 - val_loss: 4.2304 - val_perplexity: 69.8596\n",
            "Epoch 23/40\n",
            "\u001b[1m256/256\u001b[0m \u001b[32m━━━━━━━━━━━━━━━━━━━━\u001b[0m\u001b[37m\u001b[0m \u001b[1m41s\u001b[0m 88ms/step - loss: 3.9176 - perplexity: 50.4712 - val_loss: 4.2210 - val_perplexity: 69.2109\n",
            "Epoch 24/40\n",
            "\u001b[1m256/256\u001b[0m \u001b[32m━━━━━━━━━━━━━━━━━━━━\u001b[0m\u001b[37m\u001b[0m \u001b[1m41s\u001b[0m 87ms/step - loss: 3.9079 - perplexity: 49.9939 - val_loss: 4.2169 - val_perplexity: 68.9205\n",
            "Epoch 25/40\n",
            "\u001b[1m256/256\u001b[0m \u001b[32m━━━━━━━━━━━━━━━━━━━━\u001b[0m\u001b[37m\u001b[0m \u001b[1m41s\u001b[0m 88ms/step - loss: 3.8896 - perplexity: 49.0797 - val_loss: 4.2104 - val_perplexity: 68.5212\n",
            "Epoch 26/40\n",
            "\u001b[1m256/256\u001b[0m \u001b[32m━━━━━━━━━━━━━━━━━━━━\u001b[0m\u001b[37m\u001b[0m \u001b[1m41s\u001b[0m 87ms/step - loss: 3.8679 - perplexity: 48.0277 - val_loss: 4.2090 - val_perplexity: 68.4222\n",
            "Epoch 27/40\n",
            "\u001b[1m256/256\u001b[0m \u001b[32m━━━━━━━━━━━━━━━━━━━━\u001b[0m\u001b[37m\u001b[0m \u001b[1m41s\u001b[0m 88ms/step - loss: 3.8473 - perplexity: 47.0636 - val_loss: 4.2010 - val_perplexity: 67.8526\n",
            "Epoch 28/40\n",
            "\u001b[1m256/256\u001b[0m \u001b[32m━━━━━━━━━━━━━━━━━━━━\u001b[0m\u001b[37m\u001b[0m \u001b[1m41s\u001b[0m 87ms/step - loss: 3.8519 - perplexity: 47.2520 - val_loss: 4.2043 - val_perplexity: 68.1004\n",
            "Epoch 29/40\n",
            "\u001b[1m256/256\u001b[0m \u001b[32m━━━━━━━━━━━━━━━━━━━━\u001b[0m\u001b[37m\u001b[0m \u001b[1m41s\u001b[0m 88ms/step - loss: 3.8478 - perplexity: 47.0473 - val_loss: 4.1998 - val_perplexity: 67.8354\n",
            "Epoch 30/40\n",
            "\u001b[1m256/256\u001b[0m \u001b[32m━━━━━━━━━━━━━━━━━━━━\u001b[0m\u001b[37m\u001b[0m \u001b[1m41s\u001b[0m 88ms/step - loss: 3.8232 - perplexity: 45.9073 - val_loss: 4.1991 - val_perplexity: 67.7677\n",
            "Epoch 31/40\n",
            "\u001b[1m256/256\u001b[0m \u001b[32m━━━━━━━━━━━━━━━━━━━━\u001b[0m\u001b[37m\u001b[0m \u001b[1m23s\u001b[0m 88ms/step - loss: 3.8213 - perplexity: 45.8033 - val_loss: 4.1925 - val_perplexity: 67.3609\n",
            "Epoch 32/40\n",
            "\u001b[1m256/256\u001b[0m \u001b[32m━━━━━━━━━━━━━━━━━━━━\u001b[0m\u001b[37m\u001b[0m \u001b[1m41s\u001b[0m 88ms/step - loss: 3.8083 - perplexity: 45.2638 - val_loss: 4.1884 - val_perplexity: 67.0361\n",
            "Epoch 33/40\n",
            "\u001b[1m256/256\u001b[0m \u001b[32m━━━━━━━━━━━━━━━━━━━━\u001b[0m\u001b[37m\u001b[0m \u001b[1m23s\u001b[0m 89ms/step - loss: 3.8077 - perplexity: 45.2077 - val_loss: 4.1922 - val_perplexity: 67.3385\n",
            "Epoch 34/40\n",
            "\u001b[1m256/256\u001b[0m \u001b[32m━━━━━━━━━━━━━━━━━━━━\u001b[0m\u001b[37m\u001b[0m \u001b[1m41s\u001b[0m 88ms/step - loss: 3.7973 - perplexity: 44.7563 - val_loss: 4.1908 - val_perplexity: 67.2315\n"
          ]
        }
      ]
    },
    {
      "cell_type": "markdown",
      "source": [
        "---\n",
        "Plot and examine the training graphs, compare the training and evaluation errors. Run the code."
      ],
      "metadata": {
        "id": "U-OsoQn4cLNJ"
      }
    },
    {
      "cell_type": "code",
      "source": [
        "def plot_training_history(training_info):\n",
        "  fig, axs = plt.subplots(1, 2, figsize=(16, 5))\n",
        "  axs[0].plot(training_info.history['loss'], label=\"training set\")\n",
        "  axs[0].plot(training_info.history['val_loss'], label=\"validation set\")\n",
        "  axs[0].set_xlabel(\"Epoch\")\n",
        "  axs[0].set_ylabel(\"Loss\")\n",
        "  axs[0].grid(True)\n",
        "  axs[0].legend()\n",
        "  try:\n",
        "    axs[1].plot(training_info.history['perplexity'], label=\"training set\")\n",
        "    axs[1].plot(training_info.history['val_perplexity'], label=\"validation set\")\n",
        "    axs[1].set_xlabel(\"Epoch\")\n",
        "    axs[1].set_ylabel(\"Perplexity\")\n",
        "    axs[1].grid(True)\n",
        "    axs[1].legend()\n",
        "  except:\n",
        "    pass\n",
        "  plt.show()\n",
        "\n",
        "plot_training_history(training_info)"
      ],
      "metadata": {
        "id": "j82NrhOicL4q",
        "colab": {
          "base_uri": "https://localhost:8080/",
          "height": 409
        },
        "outputId": "bb3ad4d2-21ed-4749-d7b4-bd861a7a61d9"
      },
      "execution_count": 15,
      "outputs": [
        {
          "output_type": "display_data",
          "data": {
            "text/plain": [
              "<Figure size 1600x500 with 2 Axes>"
            ],
            "image/png": "[encoded data removed]"
          },
          "metadata": {}
        }
      ]
    },
    {
      "cell_type": "markdown",
      "source": [
        "(b) Evaluate the model on the test set and comment on the result compared to Ex. 7.1"
      ],
      "metadata": {
        "id": "Sz6RPnodc0rB"
      }
    },
    {
      "cell_type": "code",
      "source": [
        "#(b)\n",
        "test_loss, test_accuracy = model.evaluate(Xtest, ytest, verbose=0)\n",
        "print(\"Test loss:\", test_loss)\n",
        "print(\"Test accuracy:\", test_accuracy)\n",
        "\n",
        "# Much lower perplexity than n-gram?"
      ],
      "metadata": {
        "id": "T2syFQ91dHZc",
        "colab": {
          "base_uri": "https://localhost:8080/"
        },
        "outputId": "4d94d4a9-a930-41fb-eb0d-1b1a3dddae1f"
      },
      "execution_count": 19,
      "outputs": [
        {
          "output_type": "stream",
          "name": "stdout",
          "text": [
            "Test loss: 4.370587348937988\n",
            "Test accuracy: 87.73219299316406\n"
          ]
        }
      ]
    },
    {
      "cell_type": "markdown",
      "source": [
        "Let's generate a sequence from the model using a partial seed sentence:"
      ],
      "metadata": {
        "id": "PjQos617eWGC"
      }
    },
    {
      "cell_type": "code",
      "source": [
        "from scipy.stats import rv_discrete\n",
        "\n",
        "# Create index to word mapping by inverting the word to index mapping\n",
        "index_to_word = {i: w for w, i in word_to_index.items()}\n",
        "\n",
        "# Choose seed text and create padded index sequence\n",
        "seed_text = \"<s> it is a fact that\"\n",
        "seq = [word_to_index[w] for w in seed_text.split()]\n",
        "padded_seq = pad_sequences([seq], maxlen=seqlen, padding='post')\n",
        "\n",
        "# Sample word sequence\n",
        "for i in range(seqlen - len(seq)):\n",
        "  full_prediction = model.predict(padded_seq, verbose=0)\n",
        "  next_word_prediction = full_prediction[0][len(seq) + i, :]\n",
        "  dpd = rv_discrete(values=(list(range(len(next_word_prediction))), next_word_prediction))\n",
        "  padded_seq[0][len(seq) + i] = dpd.rvs(size=1)\n",
        "\n",
        "# Print word sequence\n",
        "sampled_words = []\n",
        "for word_index in padded_seq[0]:\n",
        "  sampled_words.append(index_to_word[word_index])\n",
        "print(\" \".join(sampled_words))"
      ],
      "metadata": {
        "id": "T2bQUA4KekA3",
        "colab": {
          "base_uri": "https://localhost:8080/"
        },
        "outputId": "5cefa9b8-5551-4798-825d-4d08b8ab1edd"
      },
      "execution_count": 17,
      "outputs": [
        {
          "output_type": "stream",
          "name": "stderr",
          "text": [
            "<ipython-input-17-3c179d8b3285>:16: DeprecationWarning: Conversion of an array with ndim > 0 to a scalar is deprecated, and will error in future. Ensure you extract a single element from your array before performing this operation. (Deprecated NumPy 1.25.)\n",
            "  padded_seq[0][len(seq) + i] = dpd.rvs(size=1)\n"
          ]
        },
        {
          "output_type": "stream",
          "name": "stdout",
          "text": [
            "<s> it is a fact that transcanada the that it \" the from they far the he seven <UNK> & he <UNK> the a on after shareholders congress focusing it the the he it \" he of amoco <UNK> it saying bundesbank a in we saying the producer we the real the iraq based they the of by it , <UNK> reports it its barter about last in brokers yesterday that long brazil the from largely calling much they as if when if <UNK> \" the today the profits there the kohl they <UNK> the if a of japan necessary\n"
          ]
        }
      ]
    }
  ]
}